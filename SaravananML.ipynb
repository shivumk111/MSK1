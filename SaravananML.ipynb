{
  "nbformat": 4,
  "nbformat_minor": 0,
  "metadata": {
    "colab": {
      "name": "SaravananML.ipynb",
      "provenance": [],
      "collapsed_sections": [
        "lfrHmUGnMJLI",
        "X5ybS9ngRGIn",
        "FhIRE6yiV5OI",
        "W0x4tM4TW9uM"
      ],
      "authorship_tag": "ABX9TyO5WcrYlIMWWY8kKA/cK065",
      "include_colab_link": true
    },
    "kernelspec": {
      "name": "python3",
      "display_name": "Python 3"
    },
    "language_info": {
      "name": "python"
    }
  },
  "cells": [
    {
      "cell_type": "markdown",
      "metadata": {
        "id": "view-in-github",
        "colab_type": "text"
      },
      "source": [
        "<a href=\"https://colab.research.google.com/github/shivumk111/MSK1/blob/master/SaravananML.ipynb\" target=\"_parent\"><img src=\"https://colab.research.google.com/assets/colab-badge.svg\" alt=\"Open In Colab\"/></a>"
      ]
    },
    {
      "cell_type": "markdown",
      "metadata": {
        "id": "hp8uOv3cGCu7"
      },
      "source": [
        "####**Hello World**"
      ]
    },
    {
      "cell_type": "code",
      "metadata": {
        "colab": {
          "base_uri": "https://localhost:8080/"
        },
        "id": "1SNokBq-FIi9",
        "outputId": "dd1e092f-1eb2-4c54-cd06-fb9fd7a81656"
      },
      "source": [
        "print(\"Hello, World! How are You?\")"
      ],
      "execution_count": null,
      "outputs": [
        {
          "output_type": "stream",
          "text": [
            "Hello, World! How are You?\n"
          ],
          "name": "stdout"
        }
      ]
    },
    {
      "cell_type": "markdown",
      "metadata": {
        "id": "a-ADu0RIGJX5"
      },
      "source": [
        "####**Datatypes**"
      ]
    },
    {
      "cell_type": "code",
      "metadata": {
        "colab": {
          "base_uri": "https://localhost:8080/"
        },
        "id": "hwg97CeNGMLt",
        "outputId": "eac035fa-a651-451d-b4f5-dd7dc6307d37"
      },
      "source": [
        "a = 12\n",
        "type(a)"
      ],
      "execution_count": null,
      "outputs": [
        {
          "output_type": "execute_result",
          "data": {
            "text/plain": [
              "int"
            ]
          },
          "metadata": {
            "tags": []
          },
          "execution_count": 2
        }
      ]
    },
    {
      "cell_type": "code",
      "metadata": {
        "colab": {
          "base_uri": "https://localhost:8080/"
        },
        "id": "VKIRHHCuGXPc",
        "outputId": "044263d3-fbb8-4291-b766-55481459867e"
      },
      "source": [
        "type(True)"
      ],
      "execution_count": null,
      "outputs": [
        {
          "output_type": "execute_result",
          "data": {
            "text/plain": [
              "bool"
            ]
          },
          "metadata": {
            "tags": []
          },
          "execution_count": 4
        }
      ]
    },
    {
      "cell_type": "code",
      "metadata": {
        "colab": {
          "base_uri": "https://localhost:8080/"
        },
        "id": "jKhbO7JaGkrk",
        "outputId": "1a7b2bf9-a0af-45cc-b5dd-d7058e1a6037"
      },
      "source": [
        "a, b, c = 1, 2, 3\n",
        "\n",
        "a, b, c"
      ],
      "execution_count": null,
      "outputs": [
        {
          "output_type": "execute_result",
          "data": {
            "text/plain": [
              "(1, 2, 3)"
            ]
          },
          "metadata": {
            "tags": []
          },
          "execution_count": 5
        }
      ]
    },
    {
      "cell_type": "code",
      "metadata": {
        "id": "ZYSEOR90GpLV"
      },
      "source": [
        ""
      ],
      "execution_count": null,
      "outputs": []
    },
    {
      "cell_type": "code",
      "metadata": {
        "colab": {
          "base_uri": "https://localhost:8080/"
        },
        "id": "UjYCQJNFGpOn",
        "outputId": "c9cabb61-61af-45ed-df94-f9e8af71cba2"
      },
      "source": [
        "a = 11\n",
        "print(a+2)\n",
        "print(a-2)\n",
        "print(a*2)\n",
        "print(a/2)\n",
        "print(a%2)\n",
        "print(a//2)"
      ],
      "execution_count": null,
      "outputs": [
        {
          "output_type": "stream",
          "text": [
            "13\n",
            "9\n",
            "22\n",
            "5.5\n",
            "1\n",
            "5\n"
          ],
          "name": "stdout"
        }
      ]
    },
    {
      "cell_type": "code",
      "metadata": {
        "colab": {
          "base_uri": "https://localhost:8080/"
        },
        "id": "nx_Bcg6LHkBg",
        "outputId": "45570262-4a34-44fd-c5cf-32c5ecee912f"
      },
      "source": [
        "x, y = True, False\n",
        "print(x and y)\n",
        "print(x or y)\n",
        "print(not y)\n",
        "print( x & y)"
      ],
      "execution_count": null,
      "outputs": [
        {
          "output_type": "stream",
          "text": [
            "False\n",
            "True\n",
            "True\n",
            "False\n"
          ],
          "name": "stdout"
        }
      ]
    },
    {
      "cell_type": "code",
      "metadata": {
        "colab": {
          "base_uri": "https://localhost:8080/"
        },
        "id": "U2e5eyp7H73V",
        "outputId": "17e36fcb-0626-404f-a621-465105f797a2"
      },
      "source": [
        "x, y =  1, 2\n",
        "\n",
        "print(x<y)"
      ],
      "execution_count": null,
      "outputs": [
        {
          "output_type": "stream",
          "text": [
            "True\n"
          ],
          "name": "stdout"
        }
      ]
    },
    {
      "cell_type": "code",
      "metadata": {
        "colab": {
          "base_uri": "https://localhost:8080/"
        },
        "id": "6AJqi50VIb9b",
        "outputId": "510e19a5-8a6e-4706-9ee6-5a55bf09c613"
      },
      "source": [
        "import random\n",
        "\n",
        "a = [1, 2, 3, 4, 5]\n",
        "\n",
        "b = random.choice(a)\n",
        "\n",
        "print(b)\n",
        "\n",
        "c = random.randint(1, 15)\n",
        "print(c)\n",
        "\n",
        "print(c in a)"
      ],
      "execution_count": null,
      "outputs": [
        {
          "output_type": "stream",
          "text": [
            "1\n",
            "15\n",
            "False\n"
          ],
          "name": "stdout"
        }
      ]
    },
    {
      "cell_type": "markdown",
      "metadata": {
        "id": "UG3VxJPaI7ix"
      },
      "source": [
        "####**Conditions**"
      ]
    },
    {
      "cell_type": "code",
      "metadata": {
        "colab": {
          "base_uri": "https://localhost:8080/"
        },
        "id": "kYJI4IYIJIMA",
        "outputId": "bd80fd09-9235-467b-ae15-255e3555d4f5"
      },
      "source": [
        "a, b  =  1, 2\n",
        "if (a > b):\n",
        "    print(\"a is higher\")\n",
        "elif a < b:\n",
        "    print(\"b is higher\")\n",
        "else:\n",
        "    print(\" a == b\")        "
      ],
      "execution_count": null,
      "outputs": [
        {
          "output_type": "stream",
          "text": [
            "b\n"
          ],
          "name": "stdout"
        }
      ]
    },
    {
      "cell_type": "markdown",
      "metadata": {
        "id": "UcSSGAPWKREa"
      },
      "source": [
        "####**Loop**"
      ]
    },
    {
      "cell_type": "code",
      "metadata": {
        "colab": {
          "base_uri": "https://localhost:8080/"
        },
        "id": "jSMgzEpnKRQG",
        "outputId": "1f355464-dab0-4155-8957-b2db7dd72a79"
      },
      "source": [
        "c = 0\n",
        "\n",
        "while c < 5:\n",
        "    print(c)\n",
        "    c += 1"
      ],
      "execution_count": null,
      "outputs": [
        {
          "output_type": "stream",
          "text": [
            "0\n",
            "1\n",
            "2\n",
            "3\n",
            "4\n"
          ],
          "name": "stdout"
        }
      ]
    },
    {
      "cell_type": "code",
      "metadata": {
        "colab": {
          "base_uri": "https://localhost:8080/"
        },
        "id": "XTT3d3awKjjQ",
        "outputId": "0e991e31-d05e-4629-c1af-517a82abd9c6"
      },
      "source": [
        "for c in range(6):\n",
        "    print(c)"
      ],
      "execution_count": null,
      "outputs": [
        {
          "output_type": "stream",
          "text": [
            "0\n",
            "1\n",
            "2\n",
            "3\n",
            "4\n",
            "5\n"
          ],
          "name": "stdout"
        }
      ]
    },
    {
      "cell_type": "code",
      "metadata": {
        "colab": {
          "base_uri": "https://localhost:8080/"
        },
        "id": "CGqoRiWBK1rT",
        "outputId": "b7f0fd65-13f6-4b39-87fd-cc256b104b79"
      },
      "source": [
        "a = [1, 5, 9, 12]\n",
        "for c in a:\n",
        "    print(c)"
      ],
      "execution_count": null,
      "outputs": [
        {
          "output_type": "stream",
          "text": [
            "1\t hi5\t hi9\t hi12\t hi"
          ],
          "name": "stdout"
        }
      ]
    },
    {
      "cell_type": "code",
      "metadata": {
        "colab": {
          "base_uri": "https://localhost:8080/"
        },
        "id": "5064tjm8L37P",
        "outputId": "50272fcd-8d1f-47ee-82d3-81b74238ca6d"
      },
      "source": [
        "for c in range(10, 0, -2):\n",
        "    print(c)"
      ],
      "execution_count": null,
      "outputs": [
        {
          "output_type": "stream",
          "text": [
            "10\n",
            "8\n",
            "6\n",
            "4\n",
            "2\n"
          ],
          "name": "stdout"
        }
      ]
    },
    {
      "cell_type": "markdown",
      "metadata": {
        "id": "lfrHmUGnMJLI"
      },
      "source": [
        "####**String**"
      ]
    },
    {
      "cell_type": "code",
      "metadata": {
        "colab": {
          "base_uri": "https://localhost:8080/"
        },
        "id": "piWQe7d5MMQ0",
        "outputId": "137f8410-1fe1-4af5-f588-130b40d226c0"
      },
      "source": [
        "a = 'Python'\n",
        "b = ' is awesome!'\n",
        "c= 1\n",
        "d = '. '\n",
        "print(a+b)\n",
        "\n",
        "print(str(c) + d + a + b)"
      ],
      "execution_count": null,
      "outputs": [
        {
          "output_type": "stream",
          "text": [
            "Python is awesome!\n",
            "1. Python is awesome!\n"
          ],
          "name": "stdout"
        }
      ]
    },
    {
      "cell_type": "code",
      "metadata": {
        "colab": {
          "base_uri": "https://localhost:8080/"
        },
        "id": "SlVxu7e9NPOs",
        "outputId": "be7d1bc0-9689-4b18-c5f2-c22c7ec5bb4e"
      },
      "source": [
        "print(\"This is  'a' = '{0}' and this is 'b' = '{1}'\".format(a,b))"
      ],
      "execution_count": null,
      "outputs": [
        {
          "output_type": "stream",
          "text": [
            "This is  'a' = 'Python' and this is 'b' = ' is awesome!'\n"
          ],
          "name": "stdout"
        }
      ]
    },
    {
      "cell_type": "code",
      "metadata": {
        "colab": {
          "base_uri": "https://localhost:8080/"
        },
        "id": "6zPPjFmGOpm0",
        "outputId": "b24bf45e-2222-4787-ce1a-e5719fffe1fd"
      },
      "source": [
        "print(a.upper(),'\\t' ,a.lower())"
      ],
      "execution_count": null,
      "outputs": [
        {
          "output_type": "stream",
          "text": [
            "PYTHON \t python\n"
          ],
          "name": "stdout"
        }
      ]
    },
    {
      "cell_type": "code",
      "metadata": {
        "colab": {
          "base_uri": "https://localhost:8080/"
        },
        "id": "3h-qQdPvO4O7",
        "outputId": "b066874c-1ad2-427a-d8cc-6bd5f75f83f9"
      },
      "source": [
        "print(b.rstrip())"
      ],
      "execution_count": null,
      "outputs": [
        {
          "output_type": "stream",
          "text": [
            " is awesome!\n"
          ],
          "name": "stdout"
        }
      ]
    },
    {
      "cell_type": "code",
      "metadata": {
        "colab": {
          "base_uri": "https://localhost:8080/"
        },
        "id": "uHcsLORXPF2X",
        "outputId": "ee184e0f-cd6c-4430-b438-8f2f7308b9ad"
      },
      "source": [
        "print(b.replace('awesome', 'great'))"
      ],
      "execution_count": null,
      "outputs": [
        {
          "output_type": "stream",
          "text": [
            " is great!\n"
          ],
          "name": "stdout"
        }
      ]
    },
    {
      "cell_type": "code",
      "metadata": {
        "colab": {
          "base_uri": "https://localhost:8080/"
        },
        "id": "1r8zD1RmPUec",
        "outputId": "e1b486c0-de1f-41f9-8923-9c9475554072"
      },
      "source": [
        "a = 'Python'\n",
        "b = 'PYTHON'\n",
        "print ( b in a.upper())"
      ],
      "execution_count": null,
      "outputs": [
        {
          "output_type": "stream",
          "text": [
            "True\n"
          ],
          "name": "stdout"
        }
      ]
    },
    {
      "cell_type": "markdown",
      "metadata": {
        "id": "X5ybS9ngRGIn"
      },
      "source": [
        "####**List**"
      ]
    },
    {
      "cell_type": "code",
      "metadata": {
        "colab": {
          "base_uri": "https://localhost:8080/"
        },
        "id": "MWEmybD7RGaX",
        "outputId": "6a23ccbb-24d7-441d-c396-71e076885125"
      },
      "source": [
        "L = [ 1,  1.1 , 2 + 2j, True, None, 'Shiva']\n",
        "\n",
        "L[len(L)-1] = \"Python\"\n",
        "\n",
        "print(L)"
      ],
      "execution_count": null,
      "outputs": [
        {
          "output_type": "stream",
          "text": [
            "[1, 1.1, (2+2j), True, None, 'Python']\n"
          ],
          "name": "stdout"
        }
      ]
    },
    {
      "cell_type": "code",
      "metadata": {
        "colab": {
          "base_uri": "https://localhost:8080/"
        },
        "id": "SSXjFG1WSMAd",
        "outputId": "b9adcc45-bc4b-4d0d-d724-67b219b2ea8f"
      },
      "source": [
        "L.append('Shiva')\n",
        "\n",
        "print(L)\n",
        "\n",
        "print(L[-1])"
      ],
      "execution_count": null,
      "outputs": [
        {
          "output_type": "stream",
          "text": [
            "[1, 1.1, (2+2j), True, None, 'Python', 'Shiva']\n",
            "Shiva\n"
          ],
          "name": "stdout"
        }
      ]
    },
    {
      "cell_type": "code",
      "metadata": {
        "colab": {
          "base_uri": "https://localhost:8080/"
        },
        "id": "P4PvS2BqS3Aq",
        "outputId": "fdda7af7-46cd-4957-a322-060da404bfd6"
      },
      "source": [
        "a = L.pop()\n",
        "print(a, L)"
      ],
      "execution_count": null,
      "outputs": [
        {
          "output_type": "stream",
          "text": [
            "Shiva [1, 1.1, (2+2j), True, None, 'Python']\n"
          ],
          "name": "stdout"
        }
      ]
    },
    {
      "cell_type": "code",
      "metadata": {
        "colab": {
          "base_uri": "https://localhost:8080/"
        },
        "id": "Eu1BEGhhTGaC",
        "outputId": "f5b9dde9-5ea9-4597-db10-8b69c0752a50"
      },
      "source": [
        "print(L[1:2])"
      ],
      "execution_count": null,
      "outputs": [
        {
          "output_type": "stream",
          "text": [
            "[1.1]\n"
          ],
          "name": "stdout"
        }
      ]
    },
    {
      "cell_type": "code",
      "metadata": {
        "colab": {
          "base_uri": "https://localhost:8080/"
        },
        "id": "5OVltV91TLRy",
        "outputId": "a343b426-56de-414a-8469-84b10a594e0f"
      },
      "source": [
        "print(L[2:])"
      ],
      "execution_count": null,
      "outputs": [
        {
          "output_type": "stream",
          "text": [
            "[(2+2j), True, None, 'Python']\n"
          ],
          "name": "stdout"
        }
      ]
    },
    {
      "cell_type": "code",
      "metadata": {
        "colab": {
          "base_uri": "https://localhost:8080/"
        },
        "id": "IMRH4ZUCTQhd",
        "outputId": "b6fbd648-8c1d-400f-a0df-4c121b4f43f7"
      },
      "source": [
        "print(L[:])"
      ],
      "execution_count": null,
      "outputs": [
        {
          "output_type": "stream",
          "text": [
            "[1, 1.1, (2+2j), True, None, 'Python']\n"
          ],
          "name": "stdout"
        }
      ]
    },
    {
      "cell_type": "code",
      "metadata": {
        "colab": {
          "base_uri": "https://localhost:8080/"
        },
        "id": "voZnWuUwTWxs",
        "outputId": "9041c6f6-0a10-4a4a-f357-e3b178174b19"
      },
      "source": [
        "print(L[::-1])"
      ],
      "execution_count": null,
      "outputs": [
        {
          "output_type": "stream",
          "text": [
            "['Python', None, True, (2+2j), 1.1, 1]\n"
          ],
          "name": "stdout"
        }
      ]
    },
    {
      "cell_type": "code",
      "metadata": {
        "colab": {
          "base_uri": "https://localhost:8080/"
        },
        "id": "K2n94-lDTn1Q",
        "outputId": "e6ed61a6-18ad-4ed1-e903-d6d84f049ccb"
      },
      "source": [
        "a = [1, 2, 4, 5, 3]\n",
        "a.sort()\n",
        "print(a)"
      ],
      "execution_count": null,
      "outputs": [
        {
          "output_type": "stream",
          "text": [
            "[1, 2, 3, 4, 5]\n"
          ],
          "name": "stdout"
        }
      ]
    },
    {
      "cell_type": "code",
      "metadata": {
        "colab": {
          "base_uri": "https://localhost:8080/"
        },
        "id": "q09Hiv-ZT1VZ",
        "outputId": "d2e1e4aa-e1b1-4435-ae5a-29da59e25c12"
      },
      "source": [
        "L = ['Shiva', 'Rama', 'Krishnan']\n",
        "L.sort()\n",
        "print(L)\n"
      ],
      "execution_count": null,
      "outputs": [
        {
          "output_type": "stream",
          "text": [
            "['Krishnan', 'Rama', 'Shiva']\n"
          ],
          "name": "stdout"
        }
      ]
    },
    {
      "cell_type": "code",
      "metadata": {
        "colab": {
          "base_uri": "https://localhost:8080/"
        },
        "id": "UJSmEuxvU6FR",
        "outputId": "b444ea29-cc31-496f-c1d4-3dc89c435d44"
      },
      "source": [
        "\n",
        "L = [1.1, 2.3, 5,5, 3.4]\n",
        "L.sort()\n",
        "print(L)"
      ],
      "execution_count": null,
      "outputs": [
        {
          "output_type": "stream",
          "text": [
            "[1.1, 2.3, 3.4, 5, 5]\n"
          ],
          "name": "stdout"
        }
      ]
    },
    {
      "cell_type": "code",
      "metadata": {
        "colab": {
          "base_uri": "https://localhost:8080/"
        },
        "id": "C1QeprZgVFrS",
        "outputId": "a13e4206-dd70-4389-b3dc-9399e016763f"
      },
      "source": [
        "L.reverse()\n",
        "print(L)"
      ],
      "execution_count": null,
      "outputs": [
        {
          "output_type": "stream",
          "text": [
            "[5, 5, 3.4, 2.3, 1.1]\n"
          ],
          "name": "stdout"
        }
      ]
    },
    {
      "cell_type": "code",
      "metadata": {
        "colab": {
          "base_uri": "https://localhost:8080/"
        },
        "id": "NMSC-z4_VQDr",
        "outputId": "27a38f40-74b8-4289-bfe1-329a3b5b9aef"
      },
      "source": [
        "a =  [ 1, 5, 2, 3 , 4, 2, 3, 2]\n",
        "\n",
        "print(a.count(2))"
      ],
      "execution_count": null,
      "outputs": [
        {
          "output_type": "stream",
          "text": [
            "3\n"
          ],
          "name": "stdout"
        }
      ]
    },
    {
      "cell_type": "markdown",
      "metadata": {
        "id": "FhIRE6yiV5OI"
      },
      "source": [
        "####**Tuple**"
      ]
    },
    {
      "cell_type": "code",
      "metadata": {
        "colab": {
          "base_uri": "https://localhost:8080/"
        },
        "id": "6_GI7pnEV78i",
        "outputId": "9249e3f1-28bd-464c-cb97-989febe660ac"
      },
      "source": [
        "t = (1, )\n",
        "print(t, type(t))"
      ],
      "execution_count": null,
      "outputs": [
        {
          "output_type": "stream",
          "text": [
            "(1,) <class 'tuple'>\n"
          ],
          "name": "stdout"
        }
      ]
    },
    {
      "cell_type": "code",
      "metadata": {
        "colab": {
          "base_uri": "https://localhost:8080/"
        },
        "id": "ljcHuLO2WHBC",
        "outputId": "f8b05a61-2b5d-4c38-c964-773ad588d719"
      },
      "source": [
        "L = [ 1, 2, 3, 4]\n",
        "\n",
        "t = tuple(L)\n",
        "\n",
        "print(L, t, type(t))"
      ],
      "execution_count": null,
      "outputs": [
        {
          "output_type": "stream",
          "text": [
            "[1, 2, 3, 4] (1, 2, 3, 4) <class 'tuple'>\n"
          ],
          "name": "stdout"
        }
      ]
    },
    {
      "cell_type": "code",
      "metadata": {
        "id": "T4LFDvv5W8td"
      },
      "source": [
        ""
      ],
      "execution_count": null,
      "outputs": []
    },
    {
      "cell_type": "markdown",
      "metadata": {
        "id": "W0x4tM4TW9uM"
      },
      "source": [
        "####**Dictionary**\n"
      ]
    },
    {
      "cell_type": "code",
      "metadata": {
        "colab": {
          "base_uri": "https://localhost:8080/"
        },
        "id": "elJDUa5pXDUg",
        "outputId": "d5b3cdac-eeaa-4829-8767-b8f9063aa0fc"
      },
      "source": [
        "d = {1: 'One', 2:'Two', 3: \"Three\", 2: \"Four\"}\n",
        "\n",
        "print(d)"
      ],
      "execution_count": null,
      "outputs": [
        {
          "output_type": "stream",
          "text": [
            "{1: 'One', 2: 'Four', 3: 'Three'}\n"
          ],
          "name": "stdout"
        }
      ]
    },
    {
      "cell_type": "code",
      "metadata": {
        "colab": {
          "base_uri": "https://localhost:8080/"
        },
        "id": "D6x5OZuaXhub",
        "outputId": "45d66c46-0a60-4673-a3b1-2b1fc47696d8"
      },
      "source": [
        "print(d[2])"
      ],
      "execution_count": null,
      "outputs": [
        {
          "output_type": "stream",
          "text": [
            "Four\n"
          ],
          "name": "stdout"
        }
      ]
    },
    {
      "cell_type": "code",
      "metadata": {
        "colab": {
          "base_uri": "https://localhost:8080/"
        },
        "id": "XK70Wq9NXcEB",
        "outputId": "1248d4dd-6b1d-4d81-c76d-21ec092d0905"
      },
      "source": [
        "d[2] = 'Two'\n",
        "for key, value in d.items():\n",
        "    print(key, value)"
      ],
      "execution_count": null,
      "outputs": [
        {
          "output_type": "stream",
          "text": [
            "1 One\n",
            "2 Two\n",
            "3 Three\n"
          ],
          "name": "stdout"
        }
      ]
    },
    {
      "cell_type": "code",
      "metadata": {
        "colab": {
          "base_uri": "https://localhost:8080/"
        },
        "id": "sQYTCqwgYKG-",
        "outputId": "a6219720-23e8-442a-aa99-9a0b9172f7da"
      },
      "source": [
        "d[4] = 'Four'\n",
        "for key, value in d.items():\n",
        "    print(key, value)"
      ],
      "execution_count": null,
      "outputs": [
        {
          "output_type": "stream",
          "text": [
            "1 One\n",
            "2 Two\n",
            "3 Three\n",
            "4 Four\n"
          ],
          "name": "stdout"
        }
      ]
    },
    {
      "cell_type": "code",
      "metadata": {
        "id": "-ujXp3mtYR6o"
      },
      "source": [
        "for key, value in d.items():\n",
        "    print(key, value)"
      ],
      "execution_count": null,
      "outputs": []
    },
    {
      "cell_type": "code",
      "metadata": {
        "colab": {
          "base_uri": "https://localhost:8080/"
        },
        "id": "XeWbp7XAYfeG",
        "outputId": "a0a14e3d-2731-47f5-9b57-4d65004c44b7"
      },
      "source": [
        "d.pop(2)\n",
        "print(d)"
      ],
      "execution_count": null,
      "outputs": [
        {
          "output_type": "stream",
          "text": [
            "{1: 'One', 3: 'Three', 4: 'Four'}\n"
          ],
          "name": "stdout"
        }
      ]
    },
    {
      "cell_type": "markdown",
      "metadata": {
        "id": "pKhHISk2aCB9"
      },
      "source": [
        "####**try-except**"
      ]
    },
    {
      "cell_type": "code",
      "metadata": {
        "colab": {
          "base_uri": "https://localhost:8080/"
        },
        "id": "-OABiIKpaCQa",
        "outputId": "fb9b4d44-1350-4208-e525-60f15eef041a"
      },
      "source": [
        "\n",
        "try:\n",
        "    print(z)\n",
        "except:\n",
        "    print('Something went wrong') "
      ],
      "execution_count": null,
      "outputs": [
        {
          "output_type": "stream",
          "text": [
            "Something went wrong\n"
          ],
          "name": "stdout"
        }
      ]
    },
    {
      "cell_type": "code",
      "metadata": {
        "colab": {
          "base_uri": "https://localhost:8080/"
        },
        "id": "-uXEFs4OY0-a",
        "outputId": "48370a35-f092-4790-d337-8f960e55e9bf"
      },
      "source": [
        "z=9\n",
        "\n",
        "try:\n",
        "    print(z)\n",
        "except:\n",
        "    print('Something went wrong') \n",
        "finally:\n",
        "    print('print me too')       "
      ],
      "execution_count": null,
      "outputs": [
        {
          "output_type": "stream",
          "text": [
            "9\n",
            "print me too\n"
          ],
          "name": "stdout"
        }
      ]
    },
    {
      "cell_type": "markdown",
      "metadata": {
        "id": "LwUE5jssa9cl"
      },
      "source": [
        "####**functions**\n"
      ]
    },
    {
      "cell_type": "code",
      "metadata": {
        "id": "T_Rxup8ja58P"
      },
      "source": [
        "def double_num(n):\n",
        "    return n*2"
      ],
      "execution_count": null,
      "outputs": []
    },
    {
      "cell_type": "code",
      "metadata": {
        "colab": {
          "base_uri": "https://localhost:8080/"
        },
        "id": "FUKfjIalbtFL",
        "outputId": "ac22ed52-058e-4b3c-ac1d-001249300f21"
      },
      "source": [
        "dn = double_num(10)\n",
        "\n",
        "print(dn)"
      ],
      "execution_count": null,
      "outputs": [
        {
          "output_type": "stream",
          "text": [
            "20\n"
          ],
          "name": "stdout"
        }
      ]
    },
    {
      "cell_type": "markdown",
      "metadata": {
        "id": "eVPzJKvjcmOK"
      },
      "source": [
        "####**Which is fast**"
      ]
    },
    {
      "cell_type": "code",
      "metadata": {
        "colab": {
          "base_uri": "https://localhost:8080/"
        },
        "id": "A_gVOQ2_ckqZ",
        "outputId": "71c8a7c1-1f07-430e-a679-e257a6e6fcb6"
      },
      "source": [
        "import time\n",
        "t= tuple(range(3_00_00_000))\n",
        "\n",
        "start = time.time()\n",
        "td = map(lambda x: x*2, t)\n",
        "end = time.time()\n",
        "print('Time taken: ', end-start)"
      ],
      "execution_count": null,
      "outputs": [
        {
          "output_type": "stream",
          "text": [
            "Time taken:  0.00011515617370605469\n"
          ],
          "name": "stdout"
        }
      ]
    },
    {
      "cell_type": "code",
      "metadata": {
        "colab": {
          "base_uri": "https://localhost:8080/"
        },
        "id": "oOs4LbWrcjaF",
        "outputId": "caffeca7-d13f-46e6-f79f-d8adf0301a95"
      },
      "source": [
        "import time\n",
        "L= list(range(3_00_00_000))\n",
        "\n",
        "start = time.time()\n",
        "td = map(lambda x: x*2, L)\n",
        "end = time.time()\n",
        "print('Time taken: ', end-start)"
      ],
      "execution_count": null,
      "outputs": [
        {
          "output_type": "stream",
          "text": [
            "Time taken:  9.512901306152344e-05\n"
          ],
          "name": "stdout"
        }
      ]
    },
    {
      "cell_type": "code",
      "metadata": {
        "id": "1rsHXQAQfPMB"
      },
      "source": [
        "abc = 1,000,000"
      ],
      "execution_count": null,
      "outputs": []
    },
    {
      "cell_type": "code",
      "metadata": {
        "colab": {
          "base_uri": "https://localhost:8080/",
          "height": 132
        },
        "id": "yV4BOUSMfXkw",
        "outputId": "033e38d6-db37-4b0c-ea62-ef3e12829133"
      },
      "source": [
        "a b c = 1 2 3"
      ],
      "execution_count": null,
      "outputs": [
        {
          "output_type": "error",
          "ename": "SyntaxError",
          "evalue": "ignored",
          "traceback": [
            "\u001b[0;36m  File \u001b[0;32m\"<ipython-input-4-34f5579df2fd>\"\u001b[0;36m, line \u001b[0;32m1\u001b[0m\n\u001b[0;31m    a b c = 1 2 3\u001b[0m\n\u001b[0m      ^\u001b[0m\n\u001b[0;31mSyntaxError\u001b[0m\u001b[0;31m:\u001b[0m invalid syntax\n"
          ]
        }
      ]
    },
    {
      "cell_type": "code",
      "metadata": {
        "colab": {
          "base_uri": "https://localhost:8080/"
        },
        "id": "4LNLD6_pfmJ2",
        "outputId": "4251bb6a-9d6a-47f9-ec31-3a938a31b29f"
      },
      "source": [
        "str1=\"Stack of books\"\n",
        "print(len(str1))"
      ],
      "execution_count": null,
      "outputs": [
        {
          "output_type": "stream",
          "text": [
            "14\n"
          ],
          "name": "stdout"
        }
      ]
    },
    {
      "cell_type": "code",
      "metadata": {
        "id": "gHy4jDl5ga7t"
      },
      "source": [
        "try:\n",
        "  print(x)\n",
        "except:\n",
        "  print(\"\"An exception occurred\"\")"
      ],
      "execution_count": null,
      "outputs": []
    },
    {
      "cell_type": "markdown",
      "metadata": {
        "id": "psYdB21igeYL"
      },
      "source": [
        "####numpy**"
      ]
    },
    {
      "cell_type": "code",
      "metadata": {
        "id": "JM3umAywgc8i"
      },
      "source": [
        "import numpy as np"
      ],
      "execution_count": null,
      "outputs": []
    },
    {
      "cell_type": "code",
      "metadata": {
        "colab": {
          "base_uri": "https://localhost:8080/"
        },
        "id": "GPKG7PgnglMe",
        "outputId": "fecbe2a1-981b-4eec-c23c-a649a1bc68bf"
      },
      "source": [
        "a = np.array([1, 2, 3])\n",
        "\n",
        "print(a)"
      ],
      "execution_count": null,
      "outputs": [
        {
          "output_type": "stream",
          "text": [
            "[1 2 3]\n"
          ],
          "name": "stdout"
        }
      ]
    },
    {
      "cell_type": "code",
      "metadata": {
        "colab": {
          "base_uri": "https://localhost:8080/"
        },
        "id": "Rw2hNltAgxyK",
        "outputId": "41e0ad8b-2af2-4d4d-ad88-95af8a15d985"
      },
      "source": [
        "a.shape"
      ],
      "execution_count": null,
      "outputs": [
        {
          "output_type": "execute_result",
          "data": {
            "text/plain": [
              "(3,)"
            ]
          },
          "metadata": {
            "tags": []
          },
          "execution_count": 9
        }
      ]
    },
    {
      "cell_type": "code",
      "metadata": {
        "colab": {
          "base_uri": "https://localhost:8080/"
        },
        "id": "ebPNr2mxg6fm",
        "outputId": "c56c6212-1303-4f73-f733-ce7df328009b"
      },
      "source": [
        "a.ndim"
      ],
      "execution_count": null,
      "outputs": [
        {
          "output_type": "execute_result",
          "data": {
            "text/plain": [
              "1"
            ]
          },
          "metadata": {
            "tags": []
          },
          "execution_count": 10
        }
      ]
    },
    {
      "cell_type": "code",
      "metadata": {
        "colab": {
          "base_uri": "https://localhost:8080/"
        },
        "id": "s-rjn-LYg_Hb",
        "outputId": "5a77cfd5-bbf2-4d53-b127-5875d97270b1"
      },
      "source": [
        "a.size"
      ],
      "execution_count": null,
      "outputs": [
        {
          "output_type": "execute_result",
          "data": {
            "text/plain": [
              "3"
            ]
          },
          "metadata": {
            "tags": []
          },
          "execution_count": 11
        }
      ]
    },
    {
      "cell_type": "code",
      "metadata": {
        "colab": {
          "base_uri": "https://localhost:8080/"
        },
        "id": "xOQfW2TnhCZv",
        "outputId": "61193fdd-efec-410a-ae0e-c9db1537f2f2"
      },
      "source": [
        "a.itemsize"
      ],
      "execution_count": null,
      "outputs": [
        {
          "output_type": "execute_result",
          "data": {
            "text/plain": [
              "8"
            ]
          },
          "metadata": {
            "tags": []
          },
          "execution_count": 12
        }
      ]
    },
    {
      "cell_type": "code",
      "metadata": {
        "colab": {
          "base_uri": "https://localhost:8080/"
        },
        "id": "z-Rb8MXhhF99",
        "outputId": "fecb9759-498b-4aeb-af93-16a09716d0bc"
      },
      "source": [
        "a.dtype"
      ],
      "execution_count": null,
      "outputs": [
        {
          "output_type": "execute_result",
          "data": {
            "text/plain": [
              "dtype('int64')"
            ]
          },
          "metadata": {
            "tags": []
          },
          "execution_count": 13
        }
      ]
    },
    {
      "cell_type": "code",
      "metadata": {
        "colab": {
          "base_uri": "https://localhost:8080/"
        },
        "id": "dZOicgz6hN7O",
        "outputId": "4d849ff1-7a66-47e6-e28a-44354e5135b5"
      },
      "source": [
        "print(a[0])"
      ],
      "execution_count": null,
      "outputs": [
        {
          "output_type": "stream",
          "text": [
            "1\n"
          ],
          "name": "stdout"
        }
      ]
    },
    {
      "cell_type": "code",
      "metadata": {
        "id": "buebS8q2hfuN"
      },
      "source": [
        "b = np.array([[1, 2, 3], [4, 5, 6]])"
      ],
      "execution_count": null,
      "outputs": []
    },
    {
      "cell_type": "code",
      "metadata": {
        "colab": {
          "base_uri": "https://localhost:8080/"
        },
        "id": "nCIbz30hhrJP",
        "outputId": "10930a57-c758-4b73-bc76-25258dff7ac4"
      },
      "source": [
        "b.shape"
      ],
      "execution_count": null,
      "outputs": [
        {
          "output_type": "execute_result",
          "data": {
            "text/plain": [
              "(2, 3)"
            ]
          },
          "metadata": {
            "tags": []
          },
          "execution_count": 17
        }
      ]
    },
    {
      "cell_type": "code",
      "metadata": {
        "colab": {
          "base_uri": "https://localhost:8080/"
        },
        "id": "7E83_8cYhyom",
        "outputId": "95e5187d-d676-4b17-b279-6e8cd6637ef7"
      },
      "source": [
        "c = np.ones((2, 3))\n",
        "d = np.zeros((3, 2))\n",
        "\n",
        "print(c)\n",
        "print(d)"
      ],
      "execution_count": null,
      "outputs": [
        {
          "output_type": "stream",
          "text": [
            "[[1. 1. 1.]\n",
            " [1. 1. 1.]]\n",
            "[[0. 0.]\n",
            " [0. 0.]\n",
            " [0. 0.]]\n"
          ],
          "name": "stdout"
        }
      ]
    },
    {
      "cell_type": "code",
      "metadata": {
        "id": "1uwE7ICTiX2k"
      },
      "source": [
        "e = np.random.randint((2, 10))"
      ],
      "execution_count": null,
      "outputs": []
    },
    {
      "cell_type": "code",
      "metadata": {
        "colab": {
          "base_uri": "https://localhost:8080/"
        },
        "id": "Lh_ja9t3ifBH",
        "outputId": "2a4685d2-3cd4-4333-e7df-2ba22c7bc263"
      },
      "source": [
        "print(e)"
      ],
      "execution_count": null,
      "outputs": [
        {
          "output_type": "stream",
          "text": [
            "[0 3]\n"
          ],
          "name": "stdout"
        }
      ]
    },
    {
      "cell_type": "code",
      "metadata": {
        "colab": {
          "base_uri": "https://localhost:8080/"
        },
        "id": "NhtRwuYencTO",
        "outputId": "6bea78e7-b19e-44f4-984c-aa7a397f1f1b"
      },
      "source": [
        "print(\" \\\"hello\\\" \")"
      ],
      "execution_count": 27,
      "outputs": [
        {
          "output_type": "stream",
          "text": [
            " \"hello\" \n"
          ],
          "name": "stdout"
        }
      ]
    },
    {
      "cell_type": "markdown",
      "metadata": {
        "id": "Ik7dG69QbteQ"
      },
      "source": [
        ""
      ]
    }
  ]
}